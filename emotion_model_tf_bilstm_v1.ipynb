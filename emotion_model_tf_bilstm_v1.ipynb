{
 "cells": [
  {
   "cell_type": "code",
   "execution_count": 3,
   "id": "29b9fa64",
   "metadata": {},
   "outputs": [],
   "source": [
    "# train.py\n",
    "import pandas as pd\n",
    "import numpy as np\n",
    "import joblib\n",
    "import spacy\n",
    "from sklearn.preprocessing import LabelEncoder\n",
    "from sklearn.model_selection import train_test_split\n",
    "from tensorflow.keras.preprocessing.text import Tokenizer\n",
    "from tensorflow.keras.preprocessing.sequence import pad_sequences\n",
    "from tensorflow.keras.models import Sequential\n",
    "from tensorflow.keras.layers import Embedding, Bidirectional, LSTM, Dropout, Dense\n",
    "from tensorflow.keras.callbacks import EarlyStopping\n",
    "from sklearn.metrics import classification_report\n",
    "\n"
   ]
  },
  {
   "cell_type": "code",
   "execution_count": 11,
   "id": "5e89d088",
   "metadata": {},
   "outputs": [],
   "source": [
    "paths = [\n",
    "    \"data/large_emotion_data/goemotions_1.csv\",\n",
    "    \"data/large_emotion_data/goemotions_2.csv\",\n",
    "    \"data/large_emotion_data/goemotions_3.csv\"\n",
    "]"
   ]
  },
  {
   "cell_type": "code",
   "execution_count": 12,
   "id": "8ac588d0",
   "metadata": {},
   "outputs": [],
   "source": [
    "dfs = [pd.read_csv(p) for p in paths]\n",
    "merged = pd.concat(dfs, ignore_index=True)"
   ]
  },
  {
   "cell_type": "code",
   "execution_count": 13,
   "id": "4349d69e",
   "metadata": {},
   "outputs": [],
   "source": [
    "# Drop duplicates by text\n",
    "merged = merged.drop_duplicates(subset=[\"text\"]).reset_index(drop=True)"
   ]
  },
  {
   "cell_type": "code",
   "execution_count": 14,
   "id": "47cd2d01",
   "metadata": {},
   "outputs": [],
   "source": [
    "# Identify emotion columns\n",
    "ignore_cols = {\n",
    "    \"text\",\"id\",\"author\",\"subreddit\",\"link_id\",\"parent_id\",\"created_utc\",\n",
    "    \"rater_id\",\"example_very_unclear\"\n",
    "}"
   ]
  },
  {
   "cell_type": "code",
   "execution_count": 15,
   "id": "a0cc03d0",
   "metadata": {},
   "outputs": [],
   "source": [
    "emotion_cols = [c for c in merged.columns if c not in ignore_cols]"
   ]
  },
  {
   "cell_type": "code",
   "execution_count": 16,
   "id": "a4549274",
   "metadata": {},
   "outputs": [],
   "source": [
    "# Keep only rows with exactly one emotion label\n",
    "mask_single = merged[emotion_cols].sum(axis=1) == 1\n",
    "filtered = merged.loc[mask_single].copy()\n"
   ]
  },
  {
   "cell_type": "code",
   "execution_count": 17,
   "id": "63b76e9c",
   "metadata": {},
   "outputs": [],
   "source": [
    "# Create a single emotion column\n",
    "filtered[\"emotion\"] = filtered[emotion_cols].idxmax(axis=1)"
   ]
  },
  {
   "cell_type": "code",
   "execution_count": 18,
   "id": "95221841",
   "metadata": {},
   "outputs": [
    {
     "name": "stdout",
     "output_type": "stream",
     "text": [
      "Dataset size: 46741 rows\n",
      "                                                text    emotion\n",
      "0                                    That game hurt.    sadness\n",
      "1     You do right, if you don't care then fuck 'em!    neutral\n",
      "2                                 Man I love reddit.       love\n",
      "3  [NAME] was nowhere near them, he was by the Fa...    neutral\n",
      "4  Right? Considering it’s such an important docu...  gratitude\n"
     ]
    }
   ],
   "source": [
    "\n",
    "# Final dataset\n",
    "final_df = filtered[[\"text\", \"emotion\"]].reset_index(drop=True)\n",
    "\n",
    "print(f\"Dataset size: {final_df.shape[0]} rows\")\n",
    "print(final_df.head())"
   ]
  },
  {
   "cell_type": "code",
   "execution_count": 19,
   "id": "d79946a3",
   "metadata": {},
   "outputs": [
    {
     "name": "stdout",
     "output_type": "stream",
     "text": [
      "Classes: ['admiration' 'amusement' 'anger' 'annoyance' 'approval' 'caring'\n",
      " 'confusion' 'curiosity' 'desire' 'disappointment' 'disapproval' 'disgust'\n",
      " 'embarrassment' 'excitement' 'fear' 'gratitude' 'grief' 'joy' 'love'\n",
      " 'nervousness' 'neutral' 'optimism' 'pride' 'realization' 'relief'\n",
      " 'remorse' 'sadness' 'surprise']\n"
     ]
    }
   ],
   "source": [
    "# ---------------------------\n",
    "# Step 2: Encode labels\n",
    "# ---------------------------\n",
    "label_encoder = LabelEncoder()\n",
    "final_df[\"label\"] = label_encoder.fit_transform(final_df[\"emotion\"])\n",
    "print(\"Classes:\", label_encoder.classes_)\n"
   ]
  },
  {
   "cell_type": "code",
   "execution_count": 21,
   "id": "9ce19cfa",
   "metadata": {},
   "outputs": [
    {
     "name": "stdout",
     "output_type": "stream",
     "text": [
      "Loading spaCy model...\n",
      "Sample cleaned text: game hurt\n"
     ]
    }
   ],
   "source": [
    "# Step 3: spaCy preprocessing\n",
    "# ---------------------------\n",
    "print(\"Loading spaCy model...\")\n",
    "nlp = spacy.load(\"en_core_web_sm\")\n",
    "\n",
    "def preprocess_text_spacy(text):\n",
    "    doc = nlp(str(text).lower())\n",
    "    tokens = [\n",
    "        token.lemma_ for token in doc\n",
    "        if token.is_alpha and not token.is_stop and not token.is_punct\n",
    "    ]\n",
    "    return \" \".join(tokens)\n",
    "\n",
    "final_df[\"clean_text\"] = final_df[\"text\"].apply(preprocess_text_spacy)\n",
    "print(\"Sample cleaned text:\", final_df[\"clean_text\"].iloc[0])\n"
   ]
  },
  {
   "cell_type": "code",
   "execution_count": 22,
   "id": "c667a61f",
   "metadata": {},
   "outputs": [],
   "source": [
    "# Step 4: Train/val/test split\n",
    "# ---------------------------\n",
    "train_texts, test_texts, y_train, y_test = train_test_split(\n",
    "    final_df[\"clean_text\"], final_df[\"label\"],\n",
    "    test_size=0.10, random_state=42, stratify=final_df[\"label\"]\n",
    ")\n",
    "train_texts, val_texts, y_train, y_val = train_test_split(\n",
    "    train_texts, y_train,\n",
    "    test_size=0.10, random_state=42, stratify=y_train\n",
    ")\n"
   ]
  },
  {
   "cell_type": "code",
   "execution_count": 23,
   "id": "7ee464f6",
   "metadata": {},
   "outputs": [],
   "source": [
    "# Step 5: Tokenization & padding\n",
    "# ---------------------------\n",
    "MAX_WORDS = 20000\n",
    "MAX_LEN = 128\n",
    "\n",
    "tokenizer = Tokenizer(num_words=MAX_WORDS, oov_token=\"<OOV>\")\n",
    "tokenizer.fit_on_texts(train_texts)\n",
    "\n",
    "X_train = pad_sequences(tokenizer.texts_to_sequences(train_texts), maxlen=MAX_LEN)\n",
    "X_val   = pad_sequences(tokenizer.texts_to_sequences(val_texts),   maxlen=MAX_LEN)\n",
    "X_test  = pad_sequences(tokenizer.texts_to_sequences(test_texts),  maxlen=MAX_LEN)"
   ]
  },
  {
   "cell_type": "code",
   "execution_count": 27,
   "id": "5396a989",
   "metadata": {},
   "outputs": [
    {
     "data": {
      "text/html": [
       "<pre style=\"white-space:pre;overflow-x:auto;line-height:normal;font-family:Menlo,'DejaVu Sans Mono',consolas,'Courier New',monospace\"><span style=\"font-weight: bold\">Model: \"sequential_2\"</span>\n",
       "</pre>\n"
      ],
      "text/plain": [
       "\u001b[1mModel: \"sequential_2\"\u001b[0m\n"
      ]
     },
     "metadata": {},
     "output_type": "display_data"
    },
    {
     "data": {
      "text/html": [
       "<pre style=\"white-space:pre;overflow-x:auto;line-height:normal;font-family:Menlo,'DejaVu Sans Mono',consolas,'Courier New',monospace\">┏━━━━━━━━━━━━━━━━━━━━━━━━━━━━━━━━━┳━━━━━━━━━━━━━━━━━━━━━━━━┳━━━━━━━━━━━━━━━┓\n",
       "┃<span style=\"font-weight: bold\"> Layer (type)                    </span>┃<span style=\"font-weight: bold\"> Output Shape           </span>┃<span style=\"font-weight: bold\">       Param # </span>┃\n",
       "┡━━━━━━━━━━━━━━━━━━━━━━━━━━━━━━━━━╇━━━━━━━━━━━━━━━━━━━━━━━━╇━━━━━━━━━━━━━━━┩\n",
       "│ embedding_2 (<span style=\"color: #0087ff; text-decoration-color: #0087ff\">Embedding</span>)         │ (<span style=\"color: #00d7ff; text-decoration-color: #00d7ff\">None</span>, <span style=\"color: #00af00; text-decoration-color: #00af00\">128</span>, <span style=\"color: #00af00; text-decoration-color: #00af00\">128</span>)       │     <span style=\"color: #00af00; text-decoration-color: #00af00\">2,560,000</span> │\n",
       "├─────────────────────────────────┼────────────────────────┼───────────────┤\n",
       "│ bidirectional_2 (<span style=\"color: #0087ff; text-decoration-color: #0087ff\">Bidirectional</span>) │ (<span style=\"color: #00d7ff; text-decoration-color: #00d7ff\">None</span>, <span style=\"color: #00af00; text-decoration-color: #00af00\">128</span>)            │        <span style=\"color: #00af00; text-decoration-color: #00af00\">98,816</span> │\n",
       "├─────────────────────────────────┼────────────────────────┼───────────────┤\n",
       "│ dropout_2 (<span style=\"color: #0087ff; text-decoration-color: #0087ff\">Dropout</span>)             │ (<span style=\"color: #00d7ff; text-decoration-color: #00d7ff\">None</span>, <span style=\"color: #00af00; text-decoration-color: #00af00\">128</span>)            │             <span style=\"color: #00af00; text-decoration-color: #00af00\">0</span> │\n",
       "├─────────────────────────────────┼────────────────────────┼───────────────┤\n",
       "│ dense_4 (<span style=\"color: #0087ff; text-decoration-color: #0087ff\">Dense</span>)                 │ (<span style=\"color: #00d7ff; text-decoration-color: #00d7ff\">None</span>, <span style=\"color: #00af00; text-decoration-color: #00af00\">64</span>)             │         <span style=\"color: #00af00; text-decoration-color: #00af00\">8,256</span> │\n",
       "├─────────────────────────────────┼────────────────────────┼───────────────┤\n",
       "│ dense_5 (<span style=\"color: #0087ff; text-decoration-color: #0087ff\">Dense</span>)                 │ (<span style=\"color: #00d7ff; text-decoration-color: #00d7ff\">None</span>, <span style=\"color: #00af00; text-decoration-color: #00af00\">28</span>)             │         <span style=\"color: #00af00; text-decoration-color: #00af00\">1,820</span> │\n",
       "└─────────────────────────────────┴────────────────────────┴───────────────┘\n",
       "</pre>\n"
      ],
      "text/plain": [
       "┏━━━━━━━━━━━━━━━━━━━━━━━━━━━━━━━━━┳━━━━━━━━━━━━━━━━━━━━━━━━┳━━━━━━━━━━━━━━━┓\n",
       "┃\u001b[1m \u001b[0m\u001b[1mLayer (type)                   \u001b[0m\u001b[1m \u001b[0m┃\u001b[1m \u001b[0m\u001b[1mOutput Shape          \u001b[0m\u001b[1m \u001b[0m┃\u001b[1m \u001b[0m\u001b[1m      Param #\u001b[0m\u001b[1m \u001b[0m┃\n",
       "┡━━━━━━━━━━━━━━━━━━━━━━━━━━━━━━━━━╇━━━━━━━━━━━━━━━━━━━━━━━━╇━━━━━━━━━━━━━━━┩\n",
       "│ embedding_2 (\u001b[38;5;33mEmbedding\u001b[0m)         │ (\u001b[38;5;45mNone\u001b[0m, \u001b[38;5;34m128\u001b[0m, \u001b[38;5;34m128\u001b[0m)       │     \u001b[38;5;34m2,560,000\u001b[0m │\n",
       "├─────────────────────────────────┼────────────────────────┼───────────────┤\n",
       "│ bidirectional_2 (\u001b[38;5;33mBidirectional\u001b[0m) │ (\u001b[38;5;45mNone\u001b[0m, \u001b[38;5;34m128\u001b[0m)            │        \u001b[38;5;34m98,816\u001b[0m │\n",
       "├─────────────────────────────────┼────────────────────────┼───────────────┤\n",
       "│ dropout_2 (\u001b[38;5;33mDropout\u001b[0m)             │ (\u001b[38;5;45mNone\u001b[0m, \u001b[38;5;34m128\u001b[0m)            │             \u001b[38;5;34m0\u001b[0m │\n",
       "├─────────────────────────────────┼────────────────────────┼───────────────┤\n",
       "│ dense_4 (\u001b[38;5;33mDense\u001b[0m)                 │ (\u001b[38;5;45mNone\u001b[0m, \u001b[38;5;34m64\u001b[0m)             │         \u001b[38;5;34m8,256\u001b[0m │\n",
       "├─────────────────────────────────┼────────────────────────┼───────────────┤\n",
       "│ dense_5 (\u001b[38;5;33mDense\u001b[0m)                 │ (\u001b[38;5;45mNone\u001b[0m, \u001b[38;5;34m28\u001b[0m)             │         \u001b[38;5;34m1,820\u001b[0m │\n",
       "└─────────────────────────────────┴────────────────────────┴───────────────┘\n"
      ]
     },
     "metadata": {},
     "output_type": "display_data"
    },
    {
     "data": {
      "text/html": [
       "<pre style=\"white-space:pre;overflow-x:auto;line-height:normal;font-family:Menlo,'DejaVu Sans Mono',consolas,'Courier New',monospace\"><span style=\"font-weight: bold\"> Total params: </span><span style=\"color: #00af00; text-decoration-color: #00af00\">2,668,892</span> (10.18 MB)\n",
       "</pre>\n"
      ],
      "text/plain": [
       "\u001b[1m Total params: \u001b[0m\u001b[38;5;34m2,668,892\u001b[0m (10.18 MB)\n"
      ]
     },
     "metadata": {},
     "output_type": "display_data"
    },
    {
     "data": {
      "text/html": [
       "<pre style=\"white-space:pre;overflow-x:auto;line-height:normal;font-family:Menlo,'DejaVu Sans Mono',consolas,'Courier New',monospace\"><span style=\"font-weight: bold\"> Trainable params: </span><span style=\"color: #00af00; text-decoration-color: #00af00\">2,668,892</span> (10.18 MB)\n",
       "</pre>\n"
      ],
      "text/plain": [
       "\u001b[1m Trainable params: \u001b[0m\u001b[38;5;34m2,668,892\u001b[0m (10.18 MB)\n"
      ]
     },
     "metadata": {},
     "output_type": "display_data"
    },
    {
     "data": {
      "text/html": [
       "<pre style=\"white-space:pre;overflow-x:auto;line-height:normal;font-family:Menlo,'DejaVu Sans Mono',consolas,'Courier New',monospace\"><span style=\"font-weight: bold\"> Non-trainable params: </span><span style=\"color: #00af00; text-decoration-color: #00af00\">0</span> (0.00 B)\n",
       "</pre>\n"
      ],
      "text/plain": [
       "\u001b[1m Non-trainable params: \u001b[0m\u001b[38;5;34m0\u001b[0m (0.00 B)\n"
      ]
     },
     "metadata": {},
     "output_type": "display_data"
    },
    {
     "data": {
      "text/plain": [
       "<tf.Tensor: shape=(37859, 28), dtype=float32, numpy=\n",
       "array([[0.03583091, 0.03498027, 0.03576785, ..., 0.0354261 , 0.03578747,\n",
       "        0.0352505 ],\n",
       "       [0.03587824, 0.03499416, 0.03608534, ..., 0.03545102, 0.03564062,\n",
       "        0.03492374],\n",
       "       [0.03589177, 0.03515601, 0.03614329, ..., 0.03502701, 0.03587715,\n",
       "        0.03507457],\n",
       "       ...,\n",
       "       [0.03605322, 0.03516023, 0.03595654, ..., 0.0353754 , 0.03546734,\n",
       "        0.03488575],\n",
       "       [0.03628229, 0.03519404, 0.03559295, ..., 0.03515723, 0.03541458,\n",
       "        0.03532596],\n",
       "       [0.03592187, 0.03541268, 0.03603682, ..., 0.03534621, 0.0357894 ,\n",
       "        0.03544947]], dtype=float32)>"
      ]
     },
     "execution_count": 27,
     "metadata": {},
     "output_type": "execute_result"
    }
   ],
   "source": [
    "\n",
    "# Step 6: Build BiLSTM model\n",
    "# ---------------------------\n",
    "num_classes = len(label_encoder.classes_)\n",
    "model = Sequential([\n",
    "    Embedding(input_dim=MAX_WORDS, output_dim=128, input_length=MAX_LEN),\n",
    "    Bidirectional(LSTM(64, return_sequences=False)),\n",
    "    Dropout(0.5),\n",
    "    Dense(64, activation=\"relu\"),\n",
    "    Dense(num_classes, activation=\"softmax\")\n",
    "])\n",
    "model.build(input_shape=(None, MAX_LEN))\n",
    "model.compile(\n",
    "    loss=\"sparse_categorical_crossentropy\",\n",
    "    optimizer=\"adam\",\n",
    "    metrics=[\"accuracy\"]\n",
    ")  # Explicitly build\n",
    "model.summary()\n",
    "# After you create X_train\n",
    "model(X_train)  # run one forward pass\n",
    "\n"
   ]
  },
  {
   "cell_type": "code",
   "execution_count": 28,
   "id": "9ab564e0",
   "metadata": {},
   "outputs": [
    {
     "name": "stdout",
     "output_type": "stream",
     "text": [
      "Epoch 1/15\n",
      "\u001b[1m1184/1184\u001b[0m \u001b[32m━━━━━━━━━━━━━━━━━━━━\u001b[0m\u001b[37m\u001b[0m \u001b[1m134s\u001b[0m 107ms/step - accuracy: 0.3494 - loss: 2.6423 - val_accuracy: 0.4345 - val_loss: 2.2227\n",
      "Epoch 2/15\n",
      "\u001b[1m1184/1184\u001b[0m \u001b[32m━━━━━━━━━━━━━━━━━━━━\u001b[0m\u001b[37m\u001b[0m \u001b[1m88s\u001b[0m 75ms/step - accuracy: 0.4452 - loss: 2.1060 - val_accuracy: 0.4390 - val_loss: 2.1803\n",
      "Epoch 3/15\n",
      "\u001b[1m1184/1184\u001b[0m \u001b[32m━━━━━━━━━━━━━━━━━━━━\u001b[0m\u001b[37m\u001b[0m \u001b[1m86s\u001b[0m 73ms/step - accuracy: 0.4842 - loss: 1.8348 - val_accuracy: 0.4362 - val_loss: 2.2209\n",
      "Epoch 4/15\n",
      "\u001b[1m1184/1184\u001b[0m \u001b[32m━━━━━━━━━━━━━━━━━━━━\u001b[0m\u001b[37m\u001b[0m \u001b[1m661s\u001b[0m 559ms/step - accuracy: 0.5475 - loss: 1.5872 - val_accuracy: 0.4103 - val_loss: 2.3258\n",
      "Epoch 5/15\n",
      "\u001b[1m1184/1184\u001b[0m \u001b[32m━━━━━━━━━━━━━━━━━━━━\u001b[0m\u001b[37m\u001b[0m \u001b[1m84s\u001b[0m 71ms/step - accuracy: 0.6116 - loss: 1.3747 - val_accuracy: 0.3901 - val_loss: 2.5632\n"
     ]
    }
   ],
   "source": [
    "# Step 7: Train\n",
    "# ---------------------------\n",
    "early_stop = EarlyStopping(monitor=\"val_loss\", patience=3, restore_best_weights=True)\n",
    "\n",
    "history = model.fit(\n",
    "    X_train, y_train,\n",
    "    validation_data=(X_val, y_val),\n",
    "    epochs=15,\n",
    "    batch_size=32,\n",
    "    callbacks=[early_stop],\n",
    "    verbose=1\n",
    ")\n"
   ]
  },
  {
   "cell_type": "code",
   "execution_count": 29,
   "id": "0a71e9db",
   "metadata": {},
   "outputs": [
    {
     "name": "stdout",
     "output_type": "stream",
     "text": [
      "\u001b[1m147/147\u001b[0m \u001b[32m━━━━━━━━━━━━━━━━━━━━\u001b[0m\u001b[37m\u001b[0m \u001b[1m4s\u001b[0m 22ms/step\n",
      "                precision    recall  f1-score   support\n",
      "\n",
      "    admiration       0.43      0.45      0.44       292\n",
      "     amusement       0.51      0.57      0.54       171\n",
      "         anger       0.30      0.16      0.20       141\n",
      "     annoyance       0.40      0.03      0.05       206\n",
      "      approval       0.44      0.03      0.05       304\n",
      "        caring       0.00      0.00      0.00        91\n",
      "     confusion       0.00      0.00      0.00       133\n",
      "     curiosity       0.00      0.00      0.00       165\n",
      "        desire       0.83      0.18      0.29        57\n",
      "disappointment       0.00      0.00      0.00       118\n",
      "   disapproval       0.00      0.00      0.00       206\n",
      "       disgust       0.50      0.04      0.08        71\n",
      " embarrassment       0.00      0.00      0.00        35\n",
      "    excitement       0.00      0.00      0.00        80\n",
      "          fear       0.83      0.11      0.19        47\n",
      "     gratitude       0.82      0.78      0.80       209\n",
      "         grief       0.00      0.00      0.00         9\n",
      "           joy       0.40      0.34      0.37       116\n",
      "          love       0.46      0.81      0.59       141\n",
      "   nervousness       0.00      0.00      0.00        20\n",
      "       neutral       0.41      0.86      0.56      1547\n",
      "      optimism       0.51      0.39      0.44       122\n",
      "         pride       0.00      0.00      0.00        18\n",
      "   realization       0.00      0.00      0.00       121\n",
      "        relief       0.00      0.00      0.00        23\n",
      "       remorse       0.29      0.36      0.32        39\n",
      "       sadness       0.22      0.22      0.22       100\n",
      "      surprise       0.00      0.00      0.00        93\n",
      "\n",
      "      accuracy                           0.43      4675\n",
      "     macro avg       0.26      0.19      0.18      4675\n",
      "  weighted avg       0.34      0.43      0.33      4675\n",
      "\n"
     ]
    },
    {
     "name": "stderr",
     "output_type": "stream",
     "text": [
      "d:\\SDE+ML\\Real-Time Emotion Detection Chat App\\emotion_model\\venv\\Lib\\site-packages\\sklearn\\metrics\\_classification.py:1706: UndefinedMetricWarning: Precision is ill-defined and being set to 0.0 in labels with no predicted samples. Use `zero_division` parameter to control this behavior.\n",
      "  _warn_prf(average, modifier, f\"{metric.capitalize()} is\", result.shape[0])\n",
      "d:\\SDE+ML\\Real-Time Emotion Detection Chat App\\emotion_model\\venv\\Lib\\site-packages\\sklearn\\metrics\\_classification.py:1706: UndefinedMetricWarning: Precision is ill-defined and being set to 0.0 in labels with no predicted samples. Use `zero_division` parameter to control this behavior.\n",
      "  _warn_prf(average, modifier, f\"{metric.capitalize()} is\", result.shape[0])\n",
      "d:\\SDE+ML\\Real-Time Emotion Detection Chat App\\emotion_model\\venv\\Lib\\site-packages\\sklearn\\metrics\\_classification.py:1706: UndefinedMetricWarning: Precision is ill-defined and being set to 0.0 in labels with no predicted samples. Use `zero_division` parameter to control this behavior.\n",
      "  _warn_prf(average, modifier, f\"{metric.capitalize()} is\", result.shape[0])\n"
     ]
    }
   ],
   "source": [
    "# Step 8: Evaluate\n",
    "# ---------------------------\n",
    "y_pred = np.argmax(model.predict(X_test), axis=1)\n",
    "print(classification_report(y_test, y_pred, target_names=label_encoder.classes_))\n"
   ]
  },
  {
   "cell_type": "code",
   "execution_count": 32,
   "id": "47863057",
   "metadata": {},
   "outputs": [
    {
     "name": "stdout",
     "output_type": "stream",
     "text": [
      "✅ Saved emotion_model.keras, tokenizer.joblib, label_encoder.joblib\n"
     ]
    }
   ],
   "source": [
    "# Step 9: Save artifacts\n",
    "# ---------------------------\n",
    "model.save(\"emotion_model.keras\")\n",
    "joblib.dump(tokenizer, \"tokenizer.joblib\")\n",
    "joblib.dump(label_encoder, \"label_encoder.joblib\")\n",
    "\n",
    "print(\"✅ Saved emotion_model.keras, tokenizer.joblib, label_encoder.joblib\")"
   ]
  },
  {
   "cell_type": "code",
   "execution_count": 33,
   "id": "9ab74ae5",
   "metadata": {},
   "outputs": [],
   "source": [
    "# your model is trained and saved, you can test it with 5 custom inputs like this:\n",
    "from tensorflow.keras.models import load_model\n",
    "nlp = spacy.load(\"en_core_web_sm\")\n",
    "model = load_model(\"saved_model_emotion_model_tf_bilstm/emotion_model.keras\")\n",
    "tokenizer = joblib.load(\"saved_model_emotion_model_tf_bilstm/tokenizer.joblib\")\n",
    "label_encoder = joblib.load(\"saved_model_emotion_model_tf_bilstm/label_encoder.joblib\")\n",
    "MAX_LEN = 128"
   ]
  },
  {
   "cell_type": "code",
   "execution_count": 34,
   "id": "79cb6ee2",
   "metadata": {},
   "outputs": [],
   "source": [
    "# Same preprocessing as training\n",
    "def preprocess_text_spacy(text):\n",
    "    doc = nlp(str(text).lower())\n",
    "    return \" \".join([t.lemma_ for t in doc if t.is_alpha and not t.is_stop and not t.is_punct])"
   ]
  },
  {
   "cell_type": "code",
   "execution_count": 35,
   "id": "216a759d",
   "metadata": {},
   "outputs": [],
   "source": [
    "def predict_emotion(text):\n",
    "    cleaned = preprocess_text_spacy(text)\n",
    "    seq = tokenizer.texts_to_sequences([cleaned])\n",
    "    pad = pad_sequences(seq, maxlen=MAX_LEN)\n",
    "    probs = model.predict(pad)[0]\n",
    "    idx = int(np.argmax(probs))\n",
    "    return {\"text\": text, \"emotion\": label_encoder.inverse_transform([idx])[0], \"confidence\": float(np.max(probs))}"
   ]
  },
  {
   "cell_type": "code",
   "execution_count": 36,
   "id": "e62801cd",
   "metadata": {},
   "outputs": [],
   "source": [
    "# Test with 5 sample inputs\n",
    "test_sentences = [\n",
    "    \"I’m so happy to see you!\",\n",
    "    \"I can’t believe this happened 😡\",\n",
    "    \"I’m feeling really down today\",\n",
    "    \"Wow, I didn’t expect that!\",\n",
    "    \"I’m a bit worried about tomorrow\"\n",
    "]"
   ]
  },
  {
   "cell_type": "code",
   "execution_count": 37,
   "id": "53158738",
   "metadata": {},
   "outputs": [
    {
     "name": "stdout",
     "output_type": "stream",
     "text": [
      "\u001b[1m1/1\u001b[0m \u001b[32m━━━━━━━━━━━━━━━━━━━━\u001b[0m\u001b[37m\u001b[0m \u001b[1m1s\u001b[0m 530ms/step\n",
      "{'text': 'I’m so happy to see you!', 'emotion': 'joy', 'confidence': 0.4356193542480469}\n",
      "\u001b[1m1/1\u001b[0m \u001b[32m━━━━━━━━━━━━━━━━━━━━\u001b[0m\u001b[37m\u001b[0m \u001b[1m0s\u001b[0m 59ms/step\n",
      "{'text': 'I can’t believe this happened 😡', 'emotion': 'neutral', 'confidence': 0.31213754415512085}\n",
      "\u001b[1m1/1\u001b[0m \u001b[32m━━━━━━━━━━━━━━━━━━━━\u001b[0m\u001b[37m\u001b[0m \u001b[1m0s\u001b[0m 55ms/step\n",
      "{'text': 'I’m feeling really down today', 'emotion': 'neutral', 'confidence': 0.4235203266143799}\n",
      "\u001b[1m1/1\u001b[0m \u001b[32m━━━━━━━━━━━━━━━━━━━━\u001b[0m\u001b[37m\u001b[0m \u001b[1m0s\u001b[0m 46ms/step\n",
      "{'text': 'Wow, I didn’t expect that!', 'emotion': 'admiration', 'confidence': 0.15229642391204834}\n",
      "\u001b[1m1/1\u001b[0m \u001b[32m━━━━━━━━━━━━━━━━━━━━\u001b[0m\u001b[37m\u001b[0m \u001b[1m0s\u001b[0m 53ms/step\n",
      "{'text': 'I’m a bit worried about tomorrow', 'emotion': 'neutral', 'confidence': 0.2076166570186615}\n"
     ]
    }
   ],
   "source": [
    "\n",
    "for sentence in test_sentences:\n",
    "    print(predict_emotion(sentence))"
   ]
  },
  {
   "cell_type": "code",
   "execution_count": null,
   "id": "12b218c8",
   "metadata": {},
   "outputs": [],
   "source": []
  }
 ],
 "metadata": {
  "kernelspec": {
   "display_name": "venv",
   "language": "python",
   "name": "python3"
  },
  "language_info": {
   "codemirror_mode": {
    "name": "ipython",
    "version": 3
   },
   "file_extension": ".py",
   "mimetype": "text/x-python",
   "name": "python",
   "nbconvert_exporter": "python",
   "pygments_lexer": "ipython3",
   "version": "3.12.3"
  }
 },
 "nbformat": 4,
 "nbformat_minor": 5
}
